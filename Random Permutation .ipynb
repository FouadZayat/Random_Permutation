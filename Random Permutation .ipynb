{
 "cells": [
  {
   "cell_type": "code",
   "execution_count": 46,
   "metadata": {},
   "outputs": [],
   "source": [
    "import pandas as pd\n",
    "import numpy as np\n",
    "from scipy import stats\n",
    "import math\n",
    "from pandas import Series\n",
    "import random\n",
    "from mlxtend.evaluate import permutation_test"
   ]
  },
  {
   "cell_type": "code",
   "execution_count": 47,
   "metadata": {},
   "outputs": [],
   "source": [
    "male_data = pd.read_csv('Male Data.csv')\n",
    "female_data = pd.read_csv('Female Data.csv')"
   ]
  },
  {
   "cell_type": "code",
   "execution_count": 48,
   "metadata": {},
   "outputs": [],
   "source": [
    "male_data.set_index ('REF_DATE', inplace = True)\n",
    "female_data.set_index ('REF_DATE', inplace = True)"
   ]
  },
  {
   "cell_type": "code",
   "execution_count": 49,
   "metadata": {},
   "outputs": [],
   "source": [
    "male_data.drop(labels=['DGUID','UOM','UOM_ID','SCALAR_FACTOR','SCALAR_ID','VECTOR','COORDINATE','STATUS','SYMBOL','TERMINATED','DECIMALS','Age group'], axis=1, inplace=True)\n",
    "female_data.drop(labels=['DGUID','UOM','UOM_ID','SCALAR_FACTOR','SCALAR_ID','VECTOR','COORDINATE','STATUS','SYMBOL','TERMINATED','DECIMALS','Age group'], axis=1, inplace=True)"
   ]
  },
  {
   "cell_type": "code",
   "execution_count": 50,
   "metadata": {},
   "outputs": [],
   "source": [
    "male_data.rename(columns = {'GEO':'Province', 'Duration of unemployment':'Duration', 'VALUE':'Total_Unemployed'}, inplace = True)\n",
    "female_data.rename(columns = {'GEO':'Province', 'Duration of unemployment':'Duration', 'VALUE':'Total_Unemployed'}, inplace = True)"
   ]
  },
  {
   "cell_type": "code",
   "execution_count": 51,
   "metadata": {},
   "outputs": [],
   "source": [
    "male_data = male_data[male_data.Duration != '26 weeks']\n",
    "female_data = female_data[female_data.Duration != '26 weeks']"
   ]
  },
  {
   "cell_type": "code",
   "execution_count": 52,
   "metadata": {},
   "outputs": [],
   "source": [
    "male_data[\"Total_Unemployed\"].fillna(male_data.groupby(\"Province\")[\"Total_Unemployed\"].transform(\"mean\"), inplace=True)\n",
    "female_data[\"Total_Unemployed\"].fillna(female_data.groupby(\"Province\")[\"Total_Unemployed\"].transform(\"mean\"), inplace=True)"
   ]
  },
  {
   "cell_type": "code",
   "execution_count": 53,
   "metadata": {},
   "outputs": [],
   "source": [
    "male_data['Rounded_Total'] = male_data['Total_Unemployed'].round(decimals = 1)\n",
    "female_data['Rounded_Total'] = female_data['Total_Unemployed'].round(decimals = 1)"
   ]
  },
  {
   "cell_type": "code",
   "execution_count": 64,
   "metadata": {},
   "outputs": [],
   "source": [
    "male_values = male_data['Rounded_Total'].tolist()\n",
    "female_values = female_data['Rounded_Total'].tolist()"
   ]
  },
  {
   "cell_type": "code",
   "execution_count": 78,
   "metadata": {},
   "outputs": [
    {
     "name": "stdout",
     "output_type": "stream",
     "text": [
      "13480\n",
      "13480\n"
     ]
    }
   ],
   "source": [
    "print (len(male_values))\n",
    "print (len(female_values))"
   ]
  },
  {
   "cell_type": "code",
   "execution_count": 100,
   "metadata": {},
   "outputs": [],
   "source": [
    "rand_male = random.sample(male_values, 1000)\n",
    "rand_female = random.sample(female_values, 1000)"
   ]
  },
  {
   "cell_type": "code",
   "execution_count": 101,
   "metadata": {},
   "outputs": [
    {
     "name": "stdout",
     "output_type": "stream",
     "text": [
      "1000\n",
      "1000\n"
     ]
    }
   ],
   "source": [
    "print (len(rand_male))\n",
    "print (len(rand_female))"
   ]
  },
  {
   "cell_type": "code",
   "execution_count": 102,
   "metadata": {},
   "outputs": [
    {
     "data": {
      "text/plain": [
       "2.4231"
      ]
     },
     "execution_count": 102,
     "metadata": {},
     "output_type": "execute_result"
    }
   ],
   "source": [
    "#Computing the difference in mean\n",
    "np.mean(rand_male) - np.mean(rand_female)"
   ]
  },
  {
   "cell_type": "code",
   "execution_count": 103,
   "metadata": {},
   "outputs": [
    {
     "name": "stdout",
     "output_type": "stream",
     "text": [
      "0.0004\n"
     ]
    }
   ],
   "source": [
    "p_value = permutation_test(rand_male, rand_female,\n",
    "                           method='approximate',\n",
    "                           num_rounds=10000,\n",
    "                           seed=0)\n",
    "print(p_value)"
   ]
  },
  {
   "cell_type": "markdown",
   "metadata": {},
   "source": [
    "Permutation tests (also called exact tests, randomization tests, or re-randomization tests) are nonparametric test procedures to test the null hypothesis that two different groups come from the same distribution. A permutation test can be used for significance or hypothesis testing (including A/B testing) without requiring to make any assumptions about the sampling distribution (e.g., it doesn't require the samples to be normal distributed).\n",
    "\n",
    "Under the null hypothesis (treatment = control), any permutations are equally likely. (Note that there are (n+m)! permutations, where n is the number of records in the treatment sample, and m is the number of records in the control sample). For a two-sided test, we define the alternative hypothesis that the two samples are different (e.g., treatment != control).\n",
    "\n",
    "Compute the difference (here: mean) of sample x and sample y <br>\n",
    "\n",
    "Combine all measurements into a single dataset <br>\n",
    "\n",
    "Draw a permuted dataset from all possible permutations of the dataset in 2. <br>\n",
    "\n",
    "Divide the permuted dataset into two datasets x' and y' of size n and m, respectively <br>\n",
    "\n",
    "Compute the difference (here: mean) of sample x' and sample y' and record this difference <br>\n",
    "\n",
    "Repeat steps 3-5 until all permutations are evaluated <br>\n",
    "\n",
    "Return the p-value as the number of times the recorded differences were more extreme than the original difference from 1. and divide this number by the total number of permutations\n",
    "Here, the p-value is defined as the probability, given the null hypothesis (no difference between the samples) is true, that we obtain results that are at least as extreme as the results we observed (i.e., the sample difference from 1.)."
   ]
  },
  {
   "cell_type": "markdown",
   "metadata": {},
   "source": [
    "#### Since p-value < alpha, we can reject the null hypothesis that the two samples come from the same distribution."
   ]
  },
  {
   "cell_type": "code",
   "execution_count": null,
   "metadata": {},
   "outputs": [],
   "source": []
  }
 ],
 "metadata": {
  "kernelspec": {
   "display_name": "Python 3",
   "language": "python",
   "name": "python3"
  },
  "language_info": {
   "codemirror_mode": {
    "name": "ipython",
    "version": 3
   },
   "file_extension": ".py",
   "mimetype": "text/x-python",
   "name": "python",
   "nbconvert_exporter": "python",
   "pygments_lexer": "ipython3",
   "version": "3.6.4"
  }
 },
 "nbformat": 4,
 "nbformat_minor": 2
}
